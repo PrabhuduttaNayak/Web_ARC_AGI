{
  "cells": [
    {
      "metadata": {
        "id": "irZZe-QyR6gT"
      },
      "cell_type": "markdown",
      "source": [
        "# A DSL alongside a Genetic Algorithm applied to the ARC Dataset\n",
        "\n",
        "In this notebook, we present a minimalistic *Domain Specific Language* for some of the ARC tasks.\n",
        "\n",
        "We instroduce the language and how it can be used to precess the input in complex ways. We then implement an evaluation function able to run a such program against an input image. We also provide a program solution of a task as an exemple.\n",
        "\n",
        "In a second time, we implement a simple genetic algorithm (based on a multiobjective and elitist strategy) that is able to generate programs written in this DSL and demonstrate its usage against the same ARC task previously solved by hand."
      ]
    },
    {
      "cell_type": "code",
      "source": [
        "# def solve_46f33fce(I):\n",
        "#     x1 = rot180(I)\n",
        "#     x2 = downscale(x1, TWO)\n",
        "#     x3 = rot180(x2)\n",
        "#     O = upscale(x3, FOUR)\n",
        "#     return O\n",
        "\n",
        "#arc-agi-2\n",
        "\n",
        "# def solver(input):\n",
        "#     bottom_right = input\n",
        "#     top_right = dsl.hmirror(bottom_right)\n",
        "#     top_left = dsl.vmirror(top_right)\n",
        "#     bottom_left = dsl.vmirror(bottom_right)\n",
        "#     top = dsl.hconcat(top_left, top_right)\n",
        "#     bottom = dsl.hconcat(bottom_left, bottom_right)\n",
        "#     output = dsl.vconcat(top, bottom)\n",
        "#     return output\n",
        "\n",
        "# def solver_0c786b71(I):\n",
        "#     x1 = hmirror(I)\n",
        "#     x2 = vmirror(x1)\n",
        "#     x3 = vmirror(I)\n",
        "#     x4 = hconcat(x2,x1)\n",
        "#     x5 = hconcat(x3,I)\n",
        "#     O = vconcat(x4,x5)\n",
        "# return O\n",
        "#[hmirror, vmirror, vmirror, hconcat, hconcat, vconcat]\n",
        "\n",
        "#given by vinayak\n",
        "\n",
        "# def solver_1(I):\n",
        "#   x1 = circular_shift_rows(I)\n",
        "#   x2 = rot90(x1)\n",
        "#   x3 = upscale(x2)\n",
        "#   return x3\n",
        "\n",
        "# def solver_2(I):\n",
        "#   x1 = rot90(I)\n",
        "#   x2 = upscale(x1)\n",
        "#   x3 = tophalf(x2)\n",
        "#   return x3\n",
        "\n",
        "# def solver_3(I):\n",
        "#   x1 = hmirror(I)\n",
        "#   x2 = tophalf(x1)\n",
        "#   x3 = circular_shift_rows(x2)\n",
        "#   return x3\n",
        "\n",
        "# def solver_4(I):\n",
        "#   x1 = circular_shift_rows(I)\n",
        "#   x2 = downscale_2(x1)\n",
        "#   x3 = vmirror(x2)\n",
        "#   return x3"
      ],
      "metadata": {
        "id": "s5t-k1ZJu0Kt"
      },
      "execution_count": 4,
      "outputs": []
    },
    {
      "cell_type": "code",
      "source": [
        "# prompt: mount google drive\n",
        "\n",
        "from google.colab import drive\n",
        "drive.mount('/content/drive')"
      ],
      "metadata": {
        "colab": {
          "base_uri": "https://localhost:8080/"
        },
        "id": "rrUPguhWtQaL",
        "outputId": "c005040d-99f9-4cba-c9f4-b6ed71e748b4"
      },
      "execution_count": 5,
      "outputs": [
        {
          "output_type": "stream",
          "name": "stdout",
          "text": [
            "Drive already mounted at /content/drive; to attempt to forcibly remount, call drive.mount(\"/content/drive\", force_remount=True).\n"
          ]
        }
      ]
    },
    {
      "metadata": {
        "id": "9s7_9xoxR6gY"
      },
      "cell_type": "markdown",
      "source": [
        "## <span style=\"color:red\">If you like the content of this notebook, please consider upvoting it.</span>\n",
        "\n",
        "Not only it will show to visitors that this notebook have valuable information, but it will also encourage me to produce more quality notebooks. :)"
      ]
    },
    {
      "metadata": {
        "_uuid": "8f2839f25d086af736a60e9eeb907d3b93b6e0e5",
        "_cell_guid": "b1076dfc-b9ad-4769-8c92-a6c4dae69d19",
        "trusted": true,
        "id": "-HUdbaAMR6gZ"
      },
      "cell_type": "code",
      "source": [
        "# Usual numpy, panda, matplotlib and python libraries imports\n",
        "import numpy as np\n",
        "import pandas as pd\n",
        "import itertools\n",
        "import random\n",
        "\n",
        "import os\n",
        "import json\n",
        "from pathlib import Path\n",
        "\n",
        "import matplotlib.pyplot as plt\n",
        "from matplotlib import colors\n",
        "\n",
        "data_path = Path('/content/drive/MyDrive/ARC DATA/ARC-AGI/data')\n",
        "training_path = data_path / 'training'\n",
        "\n",
        "training_tasks = sorted(os.listdir(training_path))"
      ],
      "execution_count": 6,
      "outputs": []
    },
    {
      "cell_type": "code",
      "source": [
        "!git clone https://github.com/michaelhodel/arc-dsl.git\n",
        "import sys\n",
        "sys.path.append('/content/arc-dsl')"
      ],
      "metadata": {
        "colab": {
          "base_uri": "https://localhost:8080/"
        },
        "id": "H4DWMbpKqKv7",
        "outputId": "f64661e3-acf9-4a8b-c86d-a85dde5da9bc"
      },
      "execution_count": 7,
      "outputs": [
        {
          "output_type": "stream",
          "name": "stdout",
          "text": [
            "Cloning into 'arc-dsl'...\n",
            "remote: Enumerating objects: 270, done.\u001b[K\n",
            "remote: Counting objects: 100% (172/172), done.\u001b[K\n",
            "remote: Compressing objects: 100% (37/37), done.\u001b[K\n",
            "remote: Total 270 (delta 163), reused 135 (delta 135), pack-reused 98 (from 1)\u001b[K\n",
            "Receiving objects: 100% (270/270), 457.74 KiB | 18.31 MiB/s, done.\n",
            "Resolving deltas: 100% (168/168), done.\n"
          ]
        }
      ]
    },
    {
      "metadata": {
        "id": "YXlaKOdfR6gb"
      },
      "cell_type": "markdown",
      "source": [
        "# Domain Specific Language (DSL)\n",
        "\n",
        "We will build a domain specific language specialized on processing list of images. To allow easy chaining of keyword from this language together, each *function* provided by this language will be take one or more images and transform it to none, one or more. The final result of our program will then be a list of images.\n",
        "\n",
        "The DSL is so constituted by a collection of functions of type `np.array -> [np.array]` and `[np.array] -> [np.array]`.\n",
        "\n",
        "The first kind of function take an image, and produce a list of images (for example, the image split by different colors). The second type of function take a list of images and produce a new list (for exemple, intersect).\n",
        "[](http://)"
      ]
    },
    {
      "metadata": {
        "id": "68vYjLdKR6gb"
      },
      "cell_type": "markdown",
      "source": [
        "## DSL Implementation\n",
        "\n",
        "We start with the functions that take *one image* and produce an *a list of images*.](http://)"
      ]
    },
    {
      "metadata": {
        "_uuid": "d629ff2d2480ee46fbb7e2d37f6b5fab8052498a",
        "_cell_guid": "79c7e3d0-c299-4dcb-8224-4455121ee9b0",
        "trusted": true,
        "id": "F912P3ldR6gc"
      },
      "cell_type": "code",
      "source": [
        "# # np.array -> [np.array]\n",
        "# def groupByColor_unlifted(pixmap):\n",
        "#     \"\"\" Split an image into a collection of images with unique color \"\"\"\n",
        "#     # Count the number of colors\n",
        "#     nb_colors = int(pixmap.max()) + 1\n",
        "#     # Create a pixmap for each color\n",
        "#     splited = [(pixmap == i) * i for i in range(1, nb_colors)]\n",
        "#     # Filter out empty images\n",
        "#     return [x for x in splited if np.any(x)]\n",
        "\n",
        "# # np.array -> [np.array]\n",
        "# def cropToContent_unlifted(pixmap):\n",
        "#     \"\"\" Crop an image to fit exactly the non 0 pixels \"\"\"\n",
        "#     # Op argwhere will give us the coordinates of every non-zero point\n",
        "#     true_points = np.argwhere(pixmap)\n",
        "#     if len(true_points) == 0:\n",
        "#         return []\n",
        "#     # Take the smallest points and use them as the top left of our crop\n",
        "#     top_left = true_points.min(axis=0)\n",
        "#     # Take the largest points and use them as the bottom right of our crop\n",
        "#     bottom_right = true_points.max(axis=0)\n",
        "#     # Crop inside the defined rectangle\n",
        "#     pixmap = pixmap[top_left[0]:bottom_right[0]+1, top_left[1]:bottom_right[1]+1]\n",
        "#     return [pixmap]\n",
        "\n",
        "# # np.array -> [np.array]\n",
        "# def splitH_unlifted(pixmap):\n",
        "#     \"\"\" Split horizontally an image \"\"\"\n",
        "#     h = pixmap.shape[0]\n",
        "#     if h % 2 == 1:\n",
        "#         h = h // 2\n",
        "#         return [pixmap[:h,:], pixmap[h+1:,:]]\n",
        "#     else:\n",
        "#         h = h // 2\n",
        "#         return [pixmap[:h,:], pixmap[h:,:]]\n",
        "\n",
        "# # np.array -> [np.array]\n",
        "# def negative_unlifted(pixmap):\n",
        "#     \"\"\" Compute the negative of an image (and conserve the color) \"\"\"\n",
        "#     negative = np.logical_not(pixmap).astype(int)\n",
        "#     color = max(pixmap.max(), 1)\n",
        "#     return [negative * color]\n",
        "\n",
        "# from dsl import *\n",
        "from constants import *\n",
        "from arc_types import *\n",
        "\n",
        "import numpy as np\n",
        "\n",
        "\n",
        "def rot180(grid: np.array) -> np.array:\n",
        "    \"\"\" half rotation \"\"\"\n",
        "    # Convert the np.array to a tuple of tuples for processing\n",
        "    grid_tuple = tuple(tuple(row) for row in grid)\n",
        "\n",
        "    # Process the grid as a tuple (the original logic)\n",
        "    rotated = tuple(tuple(row[::-1]) for row in grid_tuple[::-1])  # Rotate 180 degrees (reverse rows and columns)\n",
        "\n",
        "    # Convert the result back to a NumPy array\n",
        "    return [np.array(rotated)]\n",
        "\n",
        "\n",
        "def upscale_4(element: np.array) -> np.array:\n",
        "    \"\"\" upscale object or grid \"\"\"\n",
        "    factor = 4\n",
        "    # Convert the np.array to a tuple of tuples for processing\n",
        "    if isinstance(element, np.ndarray):\n",
        "        element_tuple = tuple(tuple(row) for row in element)\n",
        "\n",
        "        # Process the grid (original logic in tuple format)\n",
        "        g = tuple()\n",
        "        for row in element_tuple:\n",
        "            upscaled_row = tuple()\n",
        "            for value in row:\n",
        "                upscaled_row = upscaled_row + tuple(value for num in range(factor))\n",
        "            g = g + tuple(upscaled_row for num in range(factor))\n",
        "\n",
        "        # Convert the result back to NumPy array\n",
        "        return [np.array(g)]\n",
        "    else:\n",
        "        if len(element) == 0:\n",
        "            return frozenset()\n",
        "        di_inv, dj_inv = ulcorner(element)\n",
        "        di, dj = (-di_inv, -dj_inv)\n",
        "        normed_obj = shift(element, (di, dj))\n",
        "        o = set()\n",
        "        for value, (i, j) in normed_obj:\n",
        "            for io in range(factor):\n",
        "                for jo in range(factor):\n",
        "                    o.add((value, (i * factor + io, j * factor + jo)))\n",
        "        return [shift(frozenset(o), (di_inv, dj_inv))]\n",
        "\n",
        "\n",
        "def downscale_2(grid: np.array) -> np.array:\n",
        "    \"\"\" downscale grid \"\"\"\n",
        "    factor = 2\n",
        "    # Convert np.array to tuple of tuples for processing\n",
        "    grid_tuple = tuple(tuple(row) for row in grid)\n",
        "\n",
        "    # Process the grid as a tuple (original logic for downscaling)\n",
        "    h, w = len(grid_tuple), len(grid_tuple[0])\n",
        "    g = tuple()\n",
        "    for i in range(h):\n",
        "        r = tuple()\n",
        "        for j in range(w):\n",
        "            if j % factor == 0:\n",
        "                r = r + (grid_tuple[i][j],)\n",
        "        g = g + (r, )\n",
        "\n",
        "    # Downscale grid by selecting every `factor`-th row\n",
        "    h = len(g)\n",
        "    dsg = tuple()\n",
        "    for i in range(h):\n",
        "        if i % factor == 0:\n",
        "            dsg = dsg + (g[i],)\n",
        "\n",
        "    # Convert the result back to NumPy array\n",
        "    return [np.array(dsg)]\n",
        "\n",
        "\n",
        "\n",
        "#new examples by vinayak\n",
        "\n",
        "def grid_to_tuple(grid: np.ndarray) -> tuple:\n",
        "    \"\"\"Convert a 2D NumPy array to a tuple of tuples.\"\"\"\n",
        "    return tuple(tuple(row) for row in grid)\n",
        "\n",
        "def tuple_to_grid(grid: tuple) -> np.ndarray:\n",
        "    \"\"\"Convert a tuple of tuples back to a 2D NumPy array.\"\"\"\n",
        "    return np.array([list(row) for row in grid])\n",
        "\n",
        "def circular_shift_rows(grid: np.ndarray) -> np.ndarray:\n",
        "    \"\"\"Circularly shift rows up by one position.\"\"\"\n",
        "    grid_tuple = grid_to_tuple(grid)\n",
        "    shifted_grid = grid_tuple[1:] + grid_tuple[:1] if grid_tuple else grid_tuple\n",
        "    return [tuple_to_grid(shifted_grid)]\n",
        "\n",
        "def rot90(grid: np.ndarray) -> np.ndarray:\n",
        "    \"\"\"Rotate grid 90 degrees clockwise.\"\"\"\n",
        "    grid_tuple = grid_to_tuple(grid)\n",
        "    rotated_grid = tuple(zip(*grid_tuple[::-1]))\n",
        "    return [tuple_to_grid(rotated_grid)]\n",
        "\n",
        "def upscale(grid: np.ndarray) -> np.ndarray:\n",
        "    \"\"\"Upscale grid by a factor of 2 (modified version).\"\"\"\n",
        "    grid_tuple = grid_to_tuple(grid)\n",
        "    upscaled_grid = tuple(\n",
        "        tuple(val for val in row for _ in range(2))\n",
        "        for row in grid_tuple\n",
        "        for _ in range(2)\n",
        "    )\n",
        "    return [tuple_to_grid(upscaled_grid)]\n",
        "\n",
        "# def downscale_2(grid: np.ndarray) -> np.ndarray:\n",
        "#     \"\"\"Downscale grid by a factor of two.\"\"\"\n",
        "#     grid_tuple = grid_to_tuple(grid)\n",
        "#     factor = 2\n",
        "#     h, w = len(grid_tuple), len(grid_tuple[0])\n",
        "#     g = tuple()\n",
        "#     for i in range(h):\n",
        "#         r = tuple()\n",
        "#         for j in range(w):\n",
        "#             if j % factor == 0:\n",
        "#                 r = r + (grid_tuple[i][j],)\n",
        "#         g = g + (r,)\n",
        "#     h = len(g)\n",
        "#     dsg = tuple()\n",
        "#     for i in range(h):\n",
        "#         if i % factor == 0:\n",
        "#             dsg = dsg + (g[i],)\n",
        "#     return [tuple_to_grid(dsg)]\n",
        "\n",
        "def hmirror(piece: np.ndarray):\n",
        "    \"\"\"Mirror the grid along the horizontal axis\"\"\"\n",
        "    return [np.flipud(piece)]\n",
        "\n",
        "def vmirror(piece: np.ndarray):\n",
        "    \"\"\"Mirror the grid along the vertical axis\"\"\"\n",
        "    return [np.fliplr(piece)]\n",
        "\n",
        "def tophalf(grid: np.ndarray):\n",
        "    \"\"\"Return the upper half of the grid\"\"\"\n",
        "    return [grid[:len(grid) // 2]]"
      ],
      "execution_count": 8,
      "outputs": []
    },
    {
      "metadata": {
        "id": "TdC8qo4FR6gd"
      },
      "cell_type": "markdown",
      "source": [
        "We now write functions that take a list of images and transform it to a new list."
      ]
    },
    {
      "metadata": {
        "trusted": true,
        "id": "6mR7JLc5R6gd"
      },
      "cell_type": "code",
      "source": [
        "# [np.array] -> [np.array]\n",
        "def identity(x):\n",
        "    return x\n",
        "\n",
        "# [np.array] -> [np.array]\n",
        "def tail(x):\n",
        "    if len(x) > 1:\n",
        "        return x[1:]\n",
        "    else:\n",
        "        return x\n",
        "\n",
        "# [np.array] -> [np.array]\n",
        "def init(x):\n",
        "    if len(x) > 1:\n",
        "        return x[:1]\n",
        "    else:\n",
        "        return x\n",
        "\n",
        "# [np.array] -> [np.array]\n",
        "def union(x):\n",
        "    \"\"\" Compute the pixel union of all images in the list. \"\"\"\n",
        "    if len(x) < 2:\n",
        "        return x\n",
        "\n",
        "    # Make sure everybody have the same shape\n",
        "    first_shape = tuple(x[0].shape)\n",
        "    for pixmap in x[1:]:\n",
        "        if first_shape != tuple(pixmap.shape):\n",
        "            return []\n",
        "\n",
        "    return [np.bitwise_or.reduce(np.array(x).astype(int))]\n",
        "\n",
        "def intersect(x):\n",
        "    \"\"\" Compute the pixel intersection of all images in the list. \"\"\"\n",
        "    if len(x) < 2:\n",
        "        return x\n",
        "\n",
        "    # Make sure everybody have the same shape\n",
        "    first_shape = tuple(x[0].shape)\n",
        "    for pixmap in x[1:]:\n",
        "        if first_shape != tuple(pixmap.shape):\n",
        "            return []\n",
        "\n",
        "    return [(np.prod(np.array(x), axis=0) > 0).astype(int)]\n",
        "\n",
        "def sortByColor(xs):\n",
        "    \"\"\" Sort pictures by increasing color id. \"\"\"\n",
        "    xs = [x for x in xs if len(x.reshape(-1)) > 0]\n",
        "    return list(sorted(xs, key=lambda x: x.max()))\n",
        "\n",
        "def sortByWeight(xs):\n",
        "    \"\"\" Sort images by how many non zero pixels are contained. \"\"\"\n",
        "    xs = [x for x in xs if len(x.reshape(-1)) > 0]\n",
        "    return list(sorted(xs, key=lambda x: (x>0).sum()))\n",
        "\n",
        "def reverse(x):\n",
        "    \"\"\" Reverse the order of a list of images. \"\"\"\n",
        "    return x[::-1]\n"
      ],
      "execution_count": 9,
      "outputs": []
    },
    {
      "metadata": {
        "id": "07jRkjDjR6ge"
      },
      "cell_type": "markdown",
      "source": [
        "## Composition of functions\n",
        "\n",
        "It is important to make sure we can chain both functions. To compose two functions `f` and `g` of type `[np.array] -> [np.array]` ; We symply call `g(f([input_image]))`.\n",
        "\n",
        "\n",
        "But for each function of the type `np.array -> [np.array]` some work is required. We need to generated a *lifted version* version of them. A function `f: np.array -> [np.array]` can be turned into a function of type `[np.array] -> [np.array]` by applying `f` on each image of the input list and concatenating the results.\n",
        "\n",
        "---\n",
        "If you want to know more about the `lift` concept, have a look to the concept of [*monades*](https://en.wikipedia.org/wiki/Monad_%28functional_programming%29). We are indeed using the *list monade*."
      ]
    },
    {
      "metadata": {
        "trusted": true,
        "id": "7ZszXpFER6ge"
      },
      "cell_type": "code",
      "source": [
        "def lift(fct):\n",
        "    # Lift the function\n",
        "    def lifted_function(xs):\n",
        "        list_of_results = [fct(x) for x in xs]\n",
        "        return list(itertools.chain(*list_of_results))\n",
        "    # Give a nice name to the lifted function\n",
        "    import re\n",
        "    lifted_function.__name__ = re.sub('_unlifted$', '_lifted', fct.__name__)\n",
        "    return lifted_function\n",
        "\n",
        "# cropToContent = lift(cropToContent_unlifted)\n",
        "# groupByColor = lift(groupByColor_unlifted)\n",
        "# splitH = lift(splitH_unlifted)\n",
        "# negative = lift(negative_unlifted)\n",
        "\n",
        "upscale_4 = lift(upscale_4)\n",
        "downscale_2 = lift(downscale_2)\n",
        "rot180 = lift(rot180)\n",
        "\n",
        "circular_shift_rows = lift(circular_shift_rows)\n",
        "upscale = lift(upscale)\n",
        "rot90 = lift(rot90)\n",
        "# downscale_2 = lift(downscale_2)\n",
        "hmirror = lift(hmirror)\n",
        "vmirror = lift(vmirror)\n",
        "tophalf = lift(tophalf)"
      ],
      "execution_count": 10,
      "outputs": []
    },
    {
      "metadata": {
        "id": "99T-gUJKR6gf"
      },
      "cell_type": "markdown",
      "source": [
        "# Task\n",
        "\n",
        "We now load a simple task and execute one of our functions on it."
      ]
    },
    {
      "metadata": {
        "trusted": true,
        "id": "oHtgK5FIR6gf"
      },
      "cell_type": "code",
      "source": [
        "#\n",
        "# This code is used to display a task\n",
        "#\n",
        "\n",
        "cmap = colors.ListedColormap(\n",
        "        ['#000000', '#0074D9','#FF4136','#2ECC40','#FFDC00',\n",
        "         '#AAAAAA', '#F012BE', '#FF851B', '#7FDBFF', '#870C25'])\n",
        "norm = colors.Normalize(vmin=0, vmax=9)\n",
        "def plot_one(ax, i,train_or_test,input_or_output):\n",
        "    cmap = colors.ListedColormap(\n",
        "        ['#000000', '#0074D9','#FF4136','#2ECC40','#FFDC00',\n",
        "         '#AAAAAA', '#F012BE', '#FF851B', '#7FDBFF', '#870C25'])\n",
        "    norm = colors.Normalize(vmin=0, vmax=9)\n",
        "\n",
        "    input_matrix = task[train_or_test][i][input_or_output]\n",
        "    ax.imshow(input_matrix, cmap=cmap, norm=norm)\n",
        "    ax.grid(True,which='both',color='lightgrey', linewidth=0.5)\n",
        "    ax.set_yticks([x-0.5 for x in range(1+len(input_matrix))])\n",
        "    ax.set_xticks([x-0.5 for x in range(1+len(input_matrix[0]))])\n",
        "    ax.set_xticklabels([])\n",
        "    ax.set_yticklabels([])\n",
        "    ax.set_title(train_or_test + ' '+input_or_output)\n",
        "\n",
        "\n",
        "def plot_task(task):\n",
        "    \"\"\"\n",
        "    Plots the first train and test pairs of a specified task,\n",
        "    using same color scheme as the ARC app\n",
        "    \"\"\"\n",
        "    num_train = len(task['train'])\n",
        "    fig, axs = plt.subplots(2, num_train, figsize=(3*num_train,3*2))\n",
        "    for i in range(num_train):\n",
        "        plot_one(axs[0,i],i,'train','input')\n",
        "        plot_one(axs[1,i],i,'train','output')\n",
        "    plt.tight_layout()\n",
        "    plt.show()\n",
        "\n",
        "    num_test = len(task['test'])\n",
        "    fig, axs = plt.subplots(2, num_test, figsize=(3*num_test,3*2))\n",
        "    if num_test==1:\n",
        "        plot_one(axs[0],0,'test','input')\n",
        "        plot_one(axs[1],0,'test','output')\n",
        "    else:\n",
        "        for i in range(num_test):\n",
        "            plot_one(axs[0,i],i,'test','input')\n",
        "            plot_one(axs[1,i],i,'test','output')\n",
        "    plt.tight_layout()\n",
        "    plt.show()\n",
        "\n",
        "\n",
        "# Display each output of the function\n",
        "def show_image_list(images):\n",
        "    \"\"\" Show each image contained in a list. \"\"\"\n",
        "    p = plt.figure().subplots(1, len(images))\n",
        "    if len(images) > 1:\n",
        "        for i, image in enumerate(images):\n",
        "            p[i].imshow(image, cmap=cmap, norm=norm)\n",
        "    elif len(images) == 1:\n",
        "        p.imshow(images[0], cmap=cmap, norm=norm)\n"
      ],
      "execution_count": 11,
      "outputs": []
    },
    {
      "metadata": {
        "trusted": true,
        "id": "0tnGcHiDR6gf",
        "outputId": "fa7e6469-e297-4aa3-a7a8-f156bb6738e2",
        "colab": {
          "base_uri": "https://localhost:8080/",
          "height": 1000
        }
      },
      "cell_type": "code",
      "source": [
        "# Load my favorite task\n",
        "task_file = str(training_path / \"46f33fce.json\")\n",
        "print(task_file)\n",
        "with open(task_file, 'r') as f:\n",
        "    task = json.load(f)\n",
        "    plot_task(task)"
      ],
      "execution_count": 12,
      "outputs": [
        {
          "output_type": "stream",
          "name": "stdout",
          "text": [
            "/content/drive/MyDrive/ARC DATA/ARC-AGI/data/training/46f33fce.json\n"
          ]
        },
        {
          "output_type": "display_data",
          "data": {
            "text/plain": [
              "<Figure size 900x600 with 6 Axes>"
            ],
            "image/png": "[encoded data removed]"
          },
          "metadata": {}
        },
        {
          "output_type": "display_data",
          "data": {
            "text/plain": [
              "<Figure size 300x600 with 2 Axes>"
            ],
            "image/png": "[encoded data removed]"
          },
          "metadata": {}
        }
      ]
    },
    {
      "metadata": {
        "trusted": true,
        "id": "nPjdfmwNR6gg",
        "outputId": "01d822a5-c4ea-4dc5-f6f8-5fe8167e0492",
        "colab": {
          "base_uri": "https://localhost:8080/",
          "height": 843
        }
      },
      "cell_type": "code",
      "source": [
        "# Execute the group by color on the first input\n",
        "input_image = np.array(task['train'][0]['input'])\n",
        "show_image_list([input_image])\n",
        "images = rot90([input_image])\n",
        "# Show the result of our function\n",
        "show_image_list(images)"
      ],
      "execution_count": 13,
      "outputs": [
        {
          "output_type": "display_data",
          "data": {
            "text/plain": [
              "<Figure size 640x480 with 1 Axes>"
            ],
            "image/png": "[encoded data removed]"
          },
          "metadata": {}
        },
        {
          "output_type": "display_data",
          "data": {
            "text/plain": [
              "<Figure size 640x480 with 1 Axes>"
            ],
            "image/png": "[encoded data removed]"
          },
          "metadata": {}
        }
      ]
    },
    {
      "metadata": {
        "id": "SZwnONwGR6gg"
      },
      "cell_type": "markdown",
      "source": [
        "# Program evaluation\n",
        "\n",
        "\n",
        "We define our building blocks for programs (the functions in our DSL). We will define a program as a list of functions from our DSL ; `program: [[np.array] -> [np.array]]`. The instructions in our programs will be executed *from left to right*. This mean that if we want to first `splitByColor` and then compute the `negative` of the image, we need to write `[splitByColor, negative]` in this order."
      ]
    },
    {
      "metadata": {
        "id": "DEnEMQBBR6gg"
      },
      "cell_type": "markdown",
      "source": [
        "Let's first write an utilitary function to describe a program as a human readable string."
      ]
    },
    {
      "metadata": {
        "trusted": true,
        "id": "-PDwT0I7R6gg",
        "outputId": "ac318d3a-e764-4464-e778-d8c2e8bbef92",
        "colab": {
          "base_uri": "https://localhost:8080/"
        }
      },
      "cell_type": "code",
      "source": [
        "def program_desc(program):\n",
        "    \"\"\" Create a human readable description of a program. \"\"\"\n",
        "    desc = [x.__name__ for x in program]\n",
        "    return(' >> '.join(desc))\n",
        "\n",
        "# Display the program description alongside its output\n",
        "program = [rot180, downscale_2,rot180, upscale_4]\n",
        "print(program_desc(program))"
      ],
      "execution_count": 14,
      "outputs": [
        {
          "output_type": "stream",
          "name": "stdout",
          "text": [
            "rot180 >> downscale_2 >> rot180 >> upscale_4\n"
          ]
        }
      ]
    },
    {
      "metadata": {
        "id": "IdK8sBd6R6gg"
      },
      "cell_type": "markdown",
      "source": [
        "## The evaluation method\n",
        "We want to run and evaluate a such program on a pictures and then recover the result. This logic is realised by the `evaluate` function."
      ]
    },
    {
      "metadata": {
        "trusted": true,
        "id": "5o-MZI27R6gh"
      },
      "cell_type": "code",
      "source": [
        "def evaluate(program: [], input_image: np.array):\n",
        "    # Make sure the input is a np.array\n",
        "    input_image = np.array(input_image)\n",
        "    assert type(input_image) == np.ndarray\n",
        "\n",
        "    # Apply each function on the image\n",
        "    image_list = [input_image]\n",
        "    for fct in program:\n",
        "        # Apply the function\n",
        "        image_list = fct(image_list)\n",
        "        # Filter out empty images\n",
        "        image_list = [img for img in image_list if img.shape[0] > 0 and img.shape[1] > 0]\n",
        "        # Break if there is no data\n",
        "        if image_list == []:\n",
        "            return []\n",
        "    return image_list"
      ],
      "execution_count": 15,
      "outputs": []
    },
    {
      "metadata": {
        "id": "2aPC5vf2R6gh"
      },
      "cell_type": "markdown",
      "source": [
        "## Simple test on a task\n",
        "We apply the simple program `[groupByColor, negative]` on the task we loaded earlier."
      ]
    },
    {
      "metadata": {
        "trusted": true,
        "id": "n7Nk3OZ8R6gh",
        "outputId": "b796e8b7-54b8-4371-be47-bd040ab955d2",
        "colab": {
          "base_uri": "https://localhost:8080/",
          "height": 430
        }
      },
      "cell_type": "code",
      "source": [
        "results = evaluate(program=[rot180, downscale_2,rot180, upscale_4], input_image=task['train'][0]['input'])\n",
        "show_image_list(results)\n",
        "# def solve_46f33fce(I):\n",
        "#     x1 = rot180(I)\n",
        "#     x2 = downscale(x1, TWO)\n",
        "#     x3 = rot180(x2)\n",
        "#     O = upscale(x3, FOUR)\n",
        "#     return O"
      ],
      "execution_count": 16,
      "outputs": [
        {
          "output_type": "display_data",
          "data": {
            "text/plain": [
              "<Figure size 640x480 with 1 Axes>"
            ],
            "image/png": "[encoded data removed]"
          },
          "metadata": {}
        }
      ]
    },
    {
      "metadata": {
        "id": "sI1Wj40wR6gh"
      },
      "cell_type": "markdown",
      "source": [
        "# Program generation (Genetic Algorithm)\n",
        "\n",
        "We now have a simple and powerful language to express various transformation on images. But someone or something still have to write the actual program that can solve a task. In this part, we will implement a naive but somewhat efficient genetic algorithm that will be able to find by itself the solution to a task.\n",
        "\n",
        "The strategy will be as follow:\n",
        "\n",
        "* We generate random program with one node, and then run them. We keep the best solution (the *elites* of our population).\n",
        "* Starting from this best solutions, we create new program though mutation. We avaluate them again and update our collection of elite.\n",
        "* We continue doing this process again and again... until a solution is found.\n",
        "\n",
        "---\n",
        "\n",
        "Since we use multiple fitness function, our aproache can be qualified of [multi-objectives](https://en.wikipedia.org/wiki/Multi-objective_optimization) : we try to optimise multiple objectives at the same time.\n",
        "\n",
        "Our *elites* can be understood as an approximation of the pareto surface (collection of pareto optimal solution). In our specific case, when a solution to the task exists in our DSL, their exists a global minimum that will be smaller than any candidate. In a such case the pareto surface is reduced to a single point. Nethertheless, this is a good image to keep in mind to understand what the collection of *elites* represent."
      ]
    },
    {
      "metadata": {
        "id": "HzJRE0jnR6gh"
      },
      "cell_type": "markdown",
      "source": [
        "## Is a program solution ?\n",
        "\n",
        "First, we need a way to know if a program is a solution of the given examples of a task."
      ]
    },
    {
      "metadata": {
        "trusted": true,
        "id": "YEeEkZzvR6gi",
        "outputId": "54407e74-67dd-4809-afb5-eda1609e824d",
        "colab": {
          "base_uri": "https://localhost:8080/"
        }
      },
      "cell_type": "code",
      "source": [
        "def are_two_images_equals(a, b):\n",
        "    if tuple(a.shape) == tuple(b.shape):\n",
        "        if (np.abs(b-a) < 1).all():\n",
        "            return True\n",
        "    return False\n",
        "\n",
        "def is_solution(program, task, verbose=True):\n",
        "    for sample in task: # For each pair input/output\n",
        "        i = np.array(sample['input'])\n",
        "        o = np.array(sample['output'])\n",
        "\n",
        "        # Evaluate the program on the input\n",
        "        images = evaluate(program, i)\n",
        "        if len(images) < 1:\n",
        "            return False\n",
        "\n",
        "        # The solution should be in the 3 first outputs\n",
        "        images = images[:3]\n",
        "\n",
        "        # Check if the output is in the 3 images produced\n",
        "        is_program_of_for_sample = any([are_two_images_equals(x, o) for x in images])\n",
        "        if not is_program_of_for_sample:\n",
        "            return False\n",
        "\n",
        "    return True\n",
        "\n",
        "program = [rot180, downscale_2,rot180, upscale_4]\n",
        "print(program_desc(program),\"is a solution of the task:\", is_solution(program, task['train']))"
      ],
      "execution_count": 17,
      "outputs": [
        {
          "output_type": "stream",
          "name": "stdout",
          "text": [
            "rot180 >> downscale_2 >> rot180 >> upscale_4 is a solution of the task: True\n"
          ]
        }
      ]
    },
    {
      "metadata": {
        "id": "8L5-CFCoR6gi"
      },
      "cell_type": "markdown",
      "source": [
        "## Fitness\n",
        "\n",
        "To help our algorithm progress in the right direction, we need a way to give a score to an existing program. The smaller is the score of the program, the closer we are to the solution. One can think of this score as a distance of our program to the optimal solution.\n",
        "\n",
        "Notice that one can think of this program as a minimization problem (minimize `score`) or maximization problem (minimize `-score`). On machine learning it is common to minimise a distance wereas in genetic algorithm literature you can read that we maximize the fitness of an agent^1. Both convention work perfectly, but it is more convenient if we choose one and stick to it. Therefore, we will MINIMIZE the score of our programs.\n",
        "\n",
        "Because we can't really comme up with one single good score function that would describe well the progression of the algorithm on all task of the dataset, we will evaluate how our program perform on different aspects through a collection of them.\n",
        "\n",
        "---\n",
        "\n",
        "^1: The reason you see maximization and positive score in Genetic Programming literature is that you need all your values to be positive in order to build a probability distribution over your population. Since we use an elitist algorithm instead of a sampling of the population for reproduction, we do not need this restriction."
      ]
    },
    {
      "cell_type": "code",
      "source": [
        "import torch\n",
        "import torch.nn as nn\n",
        "from torchvision import models, transforms\n",
        "from PIL import Image\n",
        "import numpy as np\n",
        "import json\n",
        "\n",
        "\n",
        "# Load the VGG16 model (pre-trained on ImageNet)\n",
        "vgg16 = models.vgg16(pretrained=True).features\n",
        "vgg16 = vgg16.eval()  # Set to evaluation mode (no training)\n",
        "\n",
        "# Freeze the parameters in the VGG model (don't update weights)\n",
        "for param in vgg16.parameters():\n",
        "    param.requires_grad = False\n",
        "\n",
        "# Define a function to extract features from VGG16\n",
        "def extract_vgg_features(image, layers=[0, 5, 10, 19, 28]):\n",
        "    \"\"\"\n",
        "    Extract features from specific layers of VGG16.\n",
        "    Args:\n",
        "    - image (Tensor): Input image of shape (B, C, H, W)\n",
        "    - layers (list): List of layer indices to extract features from\n",
        "\n",
        "    Returns:\n",
        "    - features (list): List of feature maps at specified layers\n",
        "    \"\"\"\n",
        "    features = []\n",
        "    x = image\n",
        "    for i, layer in enumerate(vgg16):\n",
        "        x = layer(x)\n",
        "        if i in layers:\n",
        "            features.append(x)\n",
        "    return features\n",
        "\n",
        "# Define the VGG loss function\n",
        "def vgg_loss(generated_image, target_image, layers=[0, 5, 10, 19, 28]):\n",
        "    \"\"\"\n",
        "    Calculate VGG loss between the generated image and the target image.\n",
        "\n",
        "    Args:\n",
        "        generated_image (Tensor): Generated image (Tensor of shape (B, C, H, W)).\n",
        "        target_image (Tensor): Ground truth image (Tensor of shape (B, C, H, W)).\n",
        "        layers (list): List of layer indices to compute loss on.\n",
        "\n",
        "    Returns:\n",
        "        loss (Tensor): Calculated VGG loss (L2 distance between feature maps).\n",
        "    \"\"\"\n",
        "    # Pass both images through VGG to get feature maps at different layers\n",
        "    generated_features = extract_vgg_features(generated_image, layers)\n",
        "    target_features = extract_vgg_features(target_image, layers)\n",
        "\n",
        "    # Initialize the loss\n",
        "    loss = 0\n",
        "    for gen_feat, target_feat in zip(generated_features, target_features):\n",
        "        # Calculate L2 loss between feature maps (mean squared error)\n",
        "        loss += torch.nn.functional.mse_loss(gen_feat, target_feat)\n",
        "\n",
        "    return loss\n",
        "\n",
        "# Function to convert a grid of integers (0-9) into an image\n",
        "def grid_to_image(grid, color_map=None):\n",
        "    \"\"\"\n",
        "    Convert a grid of integers (representing colors) into an image (RGB).\n",
        "\n",
        "    Args:\n",
        "        grid (numpy.ndarray): 2D array representing the grid of colors.\n",
        "        color_map (list of tuples): List of RGB tuples representing each color.\n",
        "\n",
        "    Returns:\n",
        "        image (PIL.Image): The image generated from the grid.\n",
        "    \"\"\"\n",
        "    # If color_map is not provided, create a default one where each color is assigned a unique RGB value\n",
        "    if color_map is None:\n",
        "        color_map = [(i * 28, i * 28, i * 28) for i in range(10)]  # Grayscale colors for 10 values\n",
        "\n",
        "    # Convert grid to RGB by mapping each integer in the grid to its corresponding RGB value\n",
        "    rgb_grid = np.array([color_map[pixel] for row in grid for pixel in row], dtype=np.uint8)\n",
        "    rgb_grid = rgb_grid.reshape((len(grid), len(grid[0]), 3))  # Reshape to (height, width, 3)\n",
        "\n",
        "    # Convert to a PIL image\n",
        "    image = Image.fromarray(rgb_grid)\n",
        "    return image\n",
        "\n",
        "# Define image pre-processing and loading functions\n",
        "def preprocess_image(image, size=(224, 224)):\n",
        "    \"\"\"\n",
        "    Preprocess image to the format suitable for VGG16 input (ImageNet format).\n",
        "\n",
        "    Args:\n",
        "        image (PIL.Image): Input image (height, width, 3).\n",
        "        size (tuple): Size to resize the image.\n",
        "\n",
        "    Returns:\n",
        "        Tensor: Preprocessed image as a tensor of shape (B, C, H, W).\n",
        "    \"\"\"\n",
        "    preprocess = transforms.Compose([\n",
        "        transforms.Resize(size),\n",
        "        transforms.ToTensor(),\n",
        "        transforms.Normalize(mean=[0.485, 0.456, 0.406], std=[0.229, 0.224, 0.225])\n",
        "    ])\n",
        "\n",
        "    image = preprocess(image)\n",
        "    image = image.unsqueeze(0)  # Add batch dimension (B, C, H, W)\n",
        "\n",
        "    return image\n",
        "\n",
        "# # Example Usage:\n",
        "# # Load the JSON data (assuming the JSON is stored in 'image_data.json')\n",
        "# with open('/content/drive/MyDrive/arc_agi/training/46f33fce.json', 'r') as f:\n",
        "#     data = json.load(f)\n",
        "\n",
        "# # Extract the input and output grids (assuming the JSON contains a list of 'train' examples)\n",
        "# input_image = data['train'][0]['input']\n",
        "# output_image = data['train'][0]['output']\n",
        "\n",
        "# print(f'step_1: {input_image}')\n",
        "\n",
        "# # Convert grids to images\n",
        "# input_image_pil = grid_to_image(input_image)\n",
        "# output_image_pil = grid_to_image(output_image)\n",
        "\n",
        "# print(f'step_2: {input_image_pil}')\n",
        "# # Preprocess images\n",
        "# input_tensor = preprocess_image(input_image_pil)\n",
        "# output_tensor = preprocess_image(output_image_pil)\n",
        "\n",
        "# print(f'step_3: {input_tensor}')\n",
        "# # Calculate the VGG loss between the input and output images\n",
        "# loss = vgg_loss(input_tensor, output_tensor)\n",
        "# print(f\"VGG Loss between the input and output: {loss.item()}\")\n",
        "\n",
        "\n",
        "def fitness_1(p,e):\n",
        "  # input_tensor = torch.tensor(p)\n",
        "  # output_tensor = torch.tensor(e)\n",
        "\n",
        "  input_image_pil = grid_to_image(p)\n",
        "  output_image_pil = grid_to_image(e)\n",
        "\n",
        "  input_tensor = preprocess_image(input_image_pil)\n",
        "  output_tensor = preprocess_image(output_image_pil)\n",
        "\n",
        "  return vgg_loss(input_tensor, output_tensor)\n"
      ],
      "metadata": {
        "id": "FvgPDW5M5mey",
        "outputId": "7fced56b-df73-4d8c-e1d4-3ca181b3fa4b",
        "colab": {
          "base_uri": "https://localhost:8080/"
        }
      },
      "execution_count": 18,
      "outputs": [
        {
          "output_type": "stream",
          "name": "stderr",
          "text": [
            "/usr/local/lib/python3.11/dist-packages/torchvision/models/_utils.py:208: UserWarning: The parameter 'pretrained' is deprecated since 0.13 and may be removed in the future, please use 'weights' instead.\n",
            "  warnings.warn(\n",
            "/usr/local/lib/python3.11/dist-packages/torchvision/models/_utils.py:223: UserWarning: Arguments other than a weight enum or `None` for 'weights' are deprecated since 0.13 and may be removed in the future. The current behavior is equivalent to passing `weights=VGG16_Weights.IMAGENET1K_V1`. You can also use `weights=VGG16_Weights.DEFAULT` to get the most up-to-date weights.\n",
            "  warnings.warn(msg)\n",
            "Downloading: \"https://download.pytorch.org/models/vgg16-397923af.pth\" to /root/.cache/torch/hub/checkpoints/vgg16-397923af.pth\n",
            "100%|██████████| 528M/528M [00:03<00:00, 154MB/s]\n"
          ]
        }
      ]
    },
    {
      "metadata": {
        "trusted": true,
        "id": "2yVqPTncR6gi"
      },
      "cell_type": "code",
      "source": [
        "def width_fitness(predicted, expected_output):\n",
        "    \"\"\" How close the predicted image is to have the right width. Less is better.\"\"\"\n",
        "    return np.abs(predicted.shape[0] - expected_output.shape[0])\n",
        "\n",
        "def height_fitness(predicted, expected_output):\n",
        "    \"\"\" How close the predicted image is to have the right height. Less is better.\"\"\"\n",
        "    return np.abs(predicted.shape[1] - expected_output.shape[1])\n",
        "\n",
        "def activated_pixels_fitness(p, e):\n",
        "    \"\"\" How close the predicted image to have the right pixels. Less is better.\"\"\"\n",
        "    shape = (max(p.shape[0], e.shape[0]), max(p.shape[1], e.shape[1]))\n",
        "    diff = np.zeros(shape, dtype=int)\n",
        "    diff[0:p.shape[0], 0:p.shape[1]] = (p > 0).astype(int)\n",
        "    diff[0:e.shape[0], 0:e.shape[1]] -= (e > 0).astype(int)\n",
        "\n",
        "    return (diff != 0).sum()\n",
        "\n",
        "def colors_fitness(p, e):\n",
        "    p_colors = np.unique(p)\n",
        "    e_colors = np.unique(e)\n",
        "\n",
        "    nb_inter = len(np.intersect1d(p_colors, e_colors))\n",
        "\n",
        "    return (len(p_colors) - nb_inter) + (len(e_colors) - nb_inter)\n",
        "\n",
        "\n",
        "import numpy as np\n",
        "from sklearn.metrics.pairwise import cosine_similarity\n",
        "from skimage.transform import resize  # Import resize from skimage\n",
        "\n",
        "def cosine_similarity_fitness(predicted, expected_output):\n",
        "    \"\"\"\n",
        "    Calculate cosine similarity between the flattened predicted and expected images.\n",
        "    Resize images if they have different dimensions.\n",
        "    Higher similarity is better.\n",
        "    \"\"\"\n",
        "    # If the dimensions are different, resize the expected image to match the predicted one\n",
        "    if predicted.shape != expected_output.shape:\n",
        "        expected_output_resized = resize(expected_output, predicted.shape, mode='reflect')\n",
        "    else:\n",
        "        expected_output_resized = expected_output\n",
        "\n",
        "    # Flatten both images to 1D vectors\n",
        "    predicted_flat = predicted.flatten().reshape(1, -1)\n",
        "    expected_flat = expected_output_resized.flatten().reshape(1, -1)\n",
        "\n",
        "    # Compute cosine similarity between the two flattened vectors\n",
        "    similarity = cosine_similarity(predicted_flat, expected_flat)\n",
        "\n",
        "    # Cosine similarity is between -1 and 1, we want \"less is better\", so we subtract from 1\n",
        "    # This ensures that a higher similarity value results in a lower fitness score\n",
        "    return 1 - similarity[0][0]  # Since similarity is 1D, we get the first element\n",
        "\n",
        "\n",
        "fitness_functions = [colors_fitness, activated_pixels_fitness, height_fitness, width_fitness]\n",
        "# fitness_functions = [colors_fitness, fitness_1, height_fitness, width_fitness]\n",
        "# fitness_functions = [fitness_1]"
      ],
      "execution_count": 19,
      "outputs": []
    },
    {
      "metadata": {
        "id": "TuAGQWjZR6gi"
      },
      "cell_type": "markdown",
      "source": [
        "The fitness score (less is better) of our function will be a 4-dimensional tuple containing the result of each of the fitness functions.\n",
        "\n",
        "We want to be able to compare two score. Unfortunately, the *lixocographical order* is not adapted, as there is no reason than having a small `width score` is better than having a small `height score`. We are going to define a partial order that give the same weight to any fitness function.\n",
        "\n",
        "When we compare two tuple with this partial order, `(3, 2, 4, 0) < (3, 2, 5, 0)` and `(3, 2, 4, 0) < (4, 2, 4, 0)`. But there is no way to compare `(3, 2, 5, 0)` and `(4, 2, 4, 0)`. We say this two values are *incomparable*. If two score are incomparable, it means that we cannot say that one program is better than the over."
      ]
    },
    {
      "metadata": {
        "trusted": true,
        "id": "jKJag_JuR6gi"
      },
      "cell_type": "code",
      "source": [
        "def product_less(a, b):\n",
        "    \"\"\" Return True iff the two tuples a and b respect a<b for the partial order. \"\"\"\n",
        "    a = np.array(a)\n",
        "    b = np.array(b)\n",
        "    return (np.array(a) < np.array(b)).all()\n"
      ],
      "execution_count": 20,
      "outputs": []
    },
    {
      "metadata": {
        "id": "rmq9wnjRR6gi"
      },
      "cell_type": "markdown",
      "source": [
        "We now write a function that evaluate the fitness of a program on a task."
      ]
    },
    {
      "metadata": {
        "trusted": true,
        "id": "DKeJqwqJR6gi",
        "outputId": "2d4764ba-c30b-4c64-ae69-cd1711e8e195",
        "colab": {
          "base_uri": "https://localhost:8080/"
        }
      },
      "cell_type": "code",
      "source": [
        "# ([[np.array] -> [np.array]], Taks) -> (int, int, ..., int)\n",
        "def evaluate_fitness(program, task):\n",
        "    \"\"\" Take a program and a task, and return its fitness score as a tuple. \"\"\"\n",
        "    score = np.zeros((len(fitness_functions)))\n",
        "\n",
        "    # For each sample\n",
        "    for sample in task:\n",
        "        i = np.array(sample['input'])\n",
        "        o = np.array(sample['output'])\n",
        "\n",
        "        # For each fitness function\n",
        "        for index, fitness_function in enumerate(fitness_functions):\n",
        "            images = evaluate(program, i)\n",
        "            if images == []: # Penalize no prediction!\n",
        "                score[index] += 500\n",
        "            else: # Take only the score of the first output\n",
        "                score[index] = fitness_function(images[0], o)\n",
        "    return tuple(score)\n",
        "\n",
        "print(\"Fitness evaluation:\", evaluate_fitness([rot180, downscale_2,rot180, upscale_4], task['train']))"
      ],
      "execution_count": 21,
      "outputs": [
        {
          "output_type": "stream",
          "name": "stdout",
          "text": [
            "Fitness evaluation: (np.float64(0.0), np.float64(0.0), np.float64(0.0), np.float64(0.0))\n"
          ]
        }
      ]
    },
    {
      "metadata": {
        "id": "tOlnRaMCR6gj"
      },
      "cell_type": "markdown",
      "source": [
        "## Asexual reproduction\n",
        "\n",
        "Now that we can compare two programs we need a way to generate some of them. We will generate them randomly from a pool of best candidate.\n",
        "\n",
        "For the initial run, and also to be able to evaluate fresh candidates, we will also allow spontaneous generation of new born one instruction programs."
      ]
    },
    {
      "metadata": {
        "trusted": true,
        "id": "eCyk4DbFR6gj",
        "outputId": "eccb6880-67e5-4913-cc51-0b1358188fb3",
        "colab": {
          "base_uri": "https://localhost:8080/"
        }
      },
      "cell_type": "code",
      "source": [
        "def build_candidates(allowed_nodes=[identity], best_candidates=[], nb_candidates=200):\n",
        "    \"\"\"\n",
        "    Create a poll of fresh candidates using the `allowed_nodes`.\n",
        "\n",
        "    The pool contain a mix of new single instructions programs\n",
        "    and mutations of the best candidates.\n",
        "    \"\"\"\n",
        "    new_candidates = []\n",
        "    length_limit = 5 # Maximal length of a program\n",
        "\n",
        "    def random_node():\n",
        "        return random.choice(allowed_nodes)\n",
        "\n",
        "    # Until we have enougth new candidates\n",
        "    while(len(new_candidates) < nb_candidates):\n",
        "        # Add 10 new programs\n",
        "        for i in range(5):\n",
        "            new_candidates += [[random_node()]]\n",
        "\n",
        "        # Create new programs based on each best candidate\n",
        "        for best_program in best_candidates:\n",
        "            # Add one op on its right but limit the length of the program\n",
        "            if len(best_program) < length_limit - 1:\n",
        "                new_candidates += [[random_node()] + best_program]\n",
        "                new_candidates += [best_program + [random_node()]]\n",
        "            # Add one op on its left but limit the length of the program\n",
        "            # Mutate one instruction of the existing program\n",
        "            new_candidates += [list(best_program)]\n",
        "            # print(new_candidates)\n",
        "            new_candidates[-1][random.randrange(0, len(best_program))] = random_node()\n",
        "            # if len(new_candidates)>=2:\n",
        "            #   new_candidates[-2][random.randrange(0, len(best_program))] = random_node()\n",
        "\n",
        "    # Truncate if we have too many candidates\n",
        "    np.random.shuffle(new_candidates)\n",
        "    return new_candidates[:nb_candidates]\n",
        "\n",
        "# Test the function by building some candidates\n",
        "candid = build_candidates(allowed_nodes=[identity], best_candidates=[[identity]], nb_candidates=42)\n",
        "print(candid)"
      ],
      "execution_count": 22,
      "outputs": [
        {
          "output_type": "stream",
          "name": "stdout",
          "text": [
            "[[<function identity at 0x795c0382c680>], [<function identity at 0x795c0382c680>, <function identity at 0x795c0382c680>], [<function identity at 0x795c0382c680>, <function identity at 0x795c0382c680>], [<function identity at 0x795c0382c680>, <function identity at 0x795c0382c680>], [<function identity at 0x795c0382c680>], [<function identity at 0x795c0382c680>, <function identity at 0x795c0382c680>], [<function identity at 0x795c0382c680>], [<function identity at 0x795c0382c680>], [<function identity at 0x795c0382c680>, <function identity at 0x795c0382c680>], [<function identity at 0x795c0382c680>], [<function identity at 0x795c0382c680>], [<function identity at 0x795c0382c680>, <function identity at 0x795c0382c680>], [<function identity at 0x795c0382c680>], [<function identity at 0x795c0382c680>], [<function identity at 0x795c0382c680>], [<function identity at 0x795c0382c680>], [<function identity at 0x795c0382c680>], [<function identity at 0x795c0382c680>], [<function identity at 0x795c0382c680>], [<function identity at 0x795c0382c680>, <function identity at 0x795c0382c680>], [<function identity at 0x795c0382c680>, <function identity at 0x795c0382c680>], [<function identity at 0x795c0382c680>], [<function identity at 0x795c0382c680>], [<function identity at 0x795c0382c680>], [<function identity at 0x795c0382c680>], [<function identity at 0x795c0382c680>, <function identity at 0x795c0382c680>], [<function identity at 0x795c0382c680>], [<function identity at 0x795c0382c680>], [<function identity at 0x795c0382c680>], [<function identity at 0x795c0382c680>], [<function identity at 0x795c0382c680>], [<function identity at 0x795c0382c680>], [<function identity at 0x795c0382c680>], [<function identity at 0x795c0382c680>], [<function identity at 0x795c0382c680>], [<function identity at 0x795c0382c680>], [<function identity at 0x795c0382c680>], [<function identity at 0x795c0382c680>, <function identity at 0x795c0382c680>], [<function identity at 0x795c0382c680>, <function identity at 0x795c0382c680>], [<function identity at 0x795c0382c680>], [<function identity at 0x795c0382c680>], [<function identity at 0x795c0382c680>]]\n"
          ]
        }
      ]
    },
    {
      "metadata": {
        "id": "Xgm5EEO4R6gj"
      },
      "cell_type": "markdown",
      "source": [
        "## Find a program given a task\n",
        "\n",
        "This is the last step to our genetic algorithm. We have all the building blocks:\n",
        " * Generating both new programs and mutation of existing solutions\n",
        " * Evaluating the fitness score of a program\n",
        " * Comparing two programs to know if one perform better than the other\n",
        " * Detecting when a solution was found\n",
        "\n",
        "We can now write a function that will keep generating programs with increasing complexity until a solution is found.\n",
        "\n",
        "Using our partial order, we are going to keep the best candidates. Because the order is partial,\n",
        "there is no bound on how many uncomparables candidates we may have at a given iteration."
      ]
    },
    {
      "metadata": {
        "trusted": true,
        "id": "rSd0IIjnR6gj"
      },
      "cell_type": "code",
      "source": [
        "def build_model(task, max_iterations=200, verbose=True):\n",
        "    candidates_nodes = [\n",
        "        downscale_2, rot180, upscale_4\n",
        "    ]\n",
        "\n",
        "    if verbose:\n",
        "        print(\"Candidates nodes are:\", [program_desc([n]) for n in candidates_nodes],\"\\n\")\n",
        "\n",
        "    best_candidates = {} # A dictionary of {score:candidate}\n",
        "    for i in range(max_iterations):\n",
        "        if verbose:\n",
        "            print(\"Iteration \", i+1)\n",
        "            print(\"-\" * 10)\n",
        "\n",
        "        # Create a list of candidates\n",
        "        candidates = build_candidates(candidates_nodes, best_candidates.values())\n",
        "\n",
        "        # Keep candidates with best fitness.\n",
        "        # They will be stored in the `best_candidates` dictionary\n",
        "        # where the key of each program is its fitness score.\n",
        "        # i = 0;\n",
        "        for candidate in candidates:\n",
        "            # i = i+1;\n",
        "            # print(f'candidate_no: {i}')\n",
        "            score = evaluate_fitness(candidate, task)\n",
        "            is_uncomparable = True # True if we cannot compare the two candidate's scores\n",
        "\n",
        "            # Compare the new candidate to the existing best candidates\n",
        "            best_candidates_items = list(best_candidates.items())\n",
        "            for best_score, best_candidate in best_candidates_items:\n",
        "                if product_less(score, best_score):\n",
        "                    # Remove previous best candidate and add the new one\n",
        "                    del best_candidates[best_score]\n",
        "                    best_candidates[score] = candidate\n",
        "                    is_uncomparable = False # The candidates are comparable\n",
        "                if product_less(best_score, score) or best_score == score:\n",
        "                    is_uncomparable = False # The candidates are comparable\n",
        "            if is_uncomparable: # The two candidates are uncomparable\n",
        "                best_candidates[score] = candidate\n",
        "\n",
        "        # For each best candidate, we look if we have an answer\n",
        "        for program in best_candidates.values():\n",
        "            if is_solution(program, task):\n",
        "                return program\n",
        "\n",
        "        # Give some informations by selecting a random candidate\n",
        "        if verbose:\n",
        "            print(\"Best candidates lenght:\", len(best_candidates))\n",
        "            random_candidate_score = random.choice(list(best_candidates.keys()))\n",
        "            print(\"Random candidate score:\", random_candidate_score)\n",
        "            print(\"Random candidate implementation:\", program_desc(best_candidates[random_candidate_score]))\n",
        "    return None"
      ],
      "execution_count": 23,
      "outputs": []
    },
    {
      "metadata": {
        "id": "vW9xsihKR6gk"
      },
      "cell_type": "markdown",
      "source": [
        "# Solve the task\n",
        "\n",
        "We now apply our knowledge to solving the first task presented. We will run our algorithm and see how long it takes to generate a program that can solve the task. You may run the folowing cell multiple times to see the variance into how long the algorithm takes to find the answer."
      ]
    },
    {
      "metadata": {
        "trusted": true,
        "id": "mPHyNRUNR6gk",
        "outputId": "5a9f8346-802c-4e5f-a71b-ac2d98cb3f66",
        "colab": {
          "base_uri": "https://localhost:8080/"
        }
      },
      "cell_type": "code",
      "source": [
        "program = build_model(task['train'], verbose=True)\n",
        "\n",
        "print()\n",
        "if program is None:\n",
        "    print(\"No program was found\")\n",
        "else:\n",
        "    print(\"Found program:\", program_desc(program))"
      ],
      "execution_count": null,
      "outputs": [
        {
          "output_type": "stream",
          "name": "stdout",
          "text": [
            "Candidates nodes are: ['downscale_2', 'rot180', 'upscale_4'] \n",
            "\n",
            "Iteration  1\n",
            "----------\n",
            "Best candidates lenght: 3\n",
            "Random candidate score: (np.float64(0.0), np.float64(160.0), np.float64(20.0), np.float64(20.0))\n",
            "Random candidate implementation: upscale_4\n",
            "Iteration  2\n",
            "----------\n",
            "Best candidates lenght: 7\n",
            "Random candidate score: (np.float64(0.0), np.float64(60.0), np.float64(0.0), np.float64(0.0))\n",
            "Random candidate implementation: upscale_4 >> downscale_2\n",
            "Iteration  3\n",
            "----------\n",
            "Best candidates lenght: 13\n",
            "Random candidate score: (np.float64(0.0), np.float64(128.0), np.float64(20.0), np.float64(20.0))\n",
            "Random candidate implementation: rot180 >> upscale_4\n",
            "Iteration  4\n",
            "----------\n"
          ]
        }
      ]
    },
    {
      "metadata": {
        "id": "biTfaoo6R6gk"
      },
      "cell_type": "markdown",
      "source": [
        "# Conclusion\n",
        "\n",
        "The actual search space is of size `14 641 = 4**11`. This is the total number of programs that can be build under the current restrictions.\n",
        "It is impressive that a simple algorithm as this one can find a solution so fast.\n",
        "\n",
        "Nethertheless, there is a huge room for improvement.\n",
        "\n",
        "Here is a small list of ideas.\n",
        "\n",
        "* Add more fitness functions that would allow a faster convergence,\n",
        "* Keep more than one candidate per local minima found,\n",
        "* Extend the DSL to functions that allow solving more tasks,\n",
        "* Rework the dsl as an execution graph (cf: tensorflow / onnx neural net graphs),\n",
        "* Add speciation inspired from Neat / Neat-GP\n",
        "* Sample the candidate pool with probabilities according to the best candidates scores,\n",
        "* Add *sexual reproduction* to the programs, aka crossover.\n",
        "\n",
        "If you read all the notebook to this line, you made it! Thanks you for staying with me all along. I hope this can help / inspire you to build your own approach to ARC or an other competitions.\n",
        "\n",
        "Please let me know your thoughs in the comments. 🙂"
      ]
    },
    {
      "cell_type": "markdown",
      "source": [
        "###DAG representation and Evolution algorithm(not complete)"
      ],
      "metadata": {
        "id": "1Z78fpY0LfWx"
      }
    },
    {
      "cell_type": "code",
      "source": [
        "class DSLNode:\n",
        "    def __init__(self, name, num_inputs, num_outputs, input_types, output_types):\n",
        "        self.name = name                          # e.g., 'hconcat'\n",
        "        self.num_inputs = num_inputs              # e.g., 2\n",
        "        self.num_outputs = num_outputs            # usually 1 for functions\n",
        "        self.input_types = input_types or []      # e.g., ['image', 'image']\n",
        "        self.output_types = output_types or []    # e.g., ['image']\n",
        "\n",
        "    def __repr__(self):\n",
        "        return (f\"DSLNode(name={self.name!r}, \"\n",
        "                f\"num_inputs={self.num_inputs}, \"\n",
        "                f\"num_outputs={self.num_outputs}, \"\n",
        "                f\"input_types={self.input_types}, \"\n",
        "                f\"output_types={self.output_types})\")\n",
        "\n",
        "node = DSLNode('hconcat', 2, 1,['objects','grid'],['grid'])\n",
        "print(node)"
      ],
      "metadata": {
        "id": "pPz4NlJmLesh"
      },
      "execution_count": null,
      "outputs": []
    },
    {
      "cell_type": "code",
      "source": [
        "import matplotlib.pyplot as plt\n",
        "import networkx as nx\n",
        "from collections import defaultdict, deque\n",
        "\n",
        "# -------------------------------\n",
        "# DSLNode Class\n",
        "# -------------------------------\n",
        "class DSLNode:\n",
        "    def __init__(self, name, num_inputs, num_outputs, input_types, output_types):\n",
        "        self.name = name\n",
        "        self.num_inputs = num_inputs\n",
        "        self.num_outputs = num_outputs\n",
        "        self.input_types = input_types or []\n",
        "        self.output_types = output_types or []\n",
        "\n",
        "    def __repr__(self):\n",
        "        return (f\"DSLNode(name={self.name!r}, \"\n",
        "                f\"num_inputs={self.num_inputs}, \"\n",
        "                f\"num_outputs={self.num_outputs}, \"\n",
        "                f\"input_types={self.input_types}, \"\n",
        "                f\"output_types={self.output_types})\")\n",
        "\n",
        "\n",
        "# -------------------------------\n",
        "# DAG Drawing Function\n",
        "# -------------------------------\n",
        "def draw_dsl_dag(nodes: dict, edges: dict, title=\"Program DAG\", node_spacing=2.5):\n",
        "    \"\"\"\n",
        "    Draws a DAG with nodes symmetrically centered around x=0, spaced evenly with no edge labels.\n",
        "\n",
        "    Args:\n",
        "        nodes (dict): Mapping from node_id to DSLNode instance.\n",
        "        edges (dict): Mapping from node_id to list of input edge names.\n",
        "        title (str): Title of the plot.\n",
        "        node_spacing (float): Fixed horizontal spacing between nodes at the same level.\n",
        "    \"\"\"\n",
        "    G = nx.DiGraph()\n",
        "\n",
        "    # Add nodes and edges\n",
        "    for node_id in nodes:\n",
        "        G.add_node(node_id)\n",
        "    for node_id, input_edges in edges.items():\n",
        "        for inp in input_edges:\n",
        "            G.add_edge(inp, node_id)\n",
        "    # for node_id in nodes:\n",
        "    #     G.add_edge(node_id, f\"{node_id}_out\")  # Add output nodes\n",
        "\n",
        "    # Topological sort and level assignment\n",
        "    indegree = {n: 0 for n in G.nodes}\n",
        "    for u in G.nodes:\n",
        "        for v in G.successors(u):\n",
        "            indegree[v] += 1\n",
        "\n",
        "    level = {}\n",
        "    queue = deque()\n",
        "    for node in G.nodes:\n",
        "        if indegree[node] == 0:\n",
        "            queue.append((node, 0))\n",
        "            level[node] = 0\n",
        "\n",
        "    max_level = 0\n",
        "    while queue:\n",
        "        current, lvl = queue.popleft()\n",
        "        level[current] = lvl\n",
        "        max_level = max(max_level, lvl)\n",
        "        for neighbor in G.successors(current):\n",
        "            indegree[neighbor] -= 1\n",
        "            if indegree[neighbor] == 0:\n",
        "                queue.append((neighbor, lvl + 1))\n",
        "\n",
        "    # Organize nodes by level\n",
        "    levels = defaultdict(list)\n",
        "    for node, lvl in level.items():\n",
        "        levels[lvl].append(node)\n",
        "\n",
        "    # Calculate layout with fixed spacing and horizontal centering\n",
        "    pos = {}\n",
        "    for lvl in range(max_level + 1):\n",
        "        nodes_at_level = sorted(levels[lvl])\n",
        "        count = len(nodes_at_level)\n",
        "\n",
        "        # Calculate the starting position to center the nodes\n",
        "        if count == 1:\n",
        "            pos[nodes_at_level[0]] = (0, -lvl * 2)  # If one node, place at the center\n",
        "        else:\n",
        "            total_width = (count - 1) * node_spacing  # Total width for the nodes at this level\n",
        "            x_start = -total_width / 2  # Start positioning nodes from the center (x=0)\n",
        "            for i, node in enumerate(nodes_at_level):\n",
        "                x = x_start + i * node_spacing  # Even spacing between nodes\n",
        "                pos[node] = (x, -lvl * 2)\n",
        "\n",
        "    # Drawing\n",
        "    node_labels = {n: (nodes[n].name if n in nodes else n) for n in G.nodes}\n",
        "    node_colors = ['lightgreen' if n in nodes else 'white' for n in G.nodes]\n",
        "\n",
        "    plt.figure(figsize=(4.5,6))\n",
        "    nx.draw(G, pos, labels=node_labels, with_labels=True,\n",
        "            node_size=1800, node_color=node_colors,\n",
        "            edgecolors='black', font_size=10, font_weight='bold',\n",
        "            arrows=True, font_color='black')\n",
        "\n",
        "    # Hide edge labels (they are not required now)\n",
        "    plt.title(title)\n",
        "    plt.axis('off')\n",
        "    plt.show()"
      ],
      "metadata": {
        "id": "Fi86WgrEPjmA"
      },
      "execution_count": null,
      "outputs": []
    },
    {
      "cell_type": "code",
      "source": [
        "import ast\n",
        "import inspect\n",
        "from pprint import pprint\n",
        "\n",
        "\n",
        "def convert_solver_to_nodes_and_edges(solver_func):\n",
        "    # Get the AST (Abstract Syntax Tree) of the function\n",
        "    source = inspect.getsource(solver_func)\n",
        "    tree = ast.parse(source)\n",
        "\n",
        "    nodes = {}\n",
        "    edges = {}\n",
        "\n",
        "    func_def = next(n for n in tree.body if isinstance(n, ast.FunctionDef))\n",
        "    input_var = func_def.args.args[0].arg  # e.g., 'I'\n",
        "    defined_vars = set([input_var])\n",
        "\n",
        "    for stmt in func_def.body:\n",
        "        if isinstance(stmt, ast.Assign) and isinstance(stmt.value, ast.Call):\n",
        "            target = stmt.targets[0].id\n",
        "            func_name = stmt.value.func.id\n",
        "\n",
        "            # Get input arguments\n",
        "            args = [arg.id for arg in stmt.value.args]\n",
        "            input_count = len(args)\n",
        "            output_count = 1\n",
        "            input_types = ['grid'] * input_count\n",
        "            output_types = ['grid']\n",
        "            nodes[target] = DSLNode(func_name, input_count, output_count, input_types, output_types)\n",
        "            edges[target] = args\n",
        "            defined_vars.add(target)\n",
        "\n",
        "    return nodes, edges\n",
        "\n",
        "# Example solver function\n",
        "def solver(I):\n",
        "    x1 = hmirror(I)\n",
        "    x2 = vmirror(x1)\n",
        "    x3 = vmirror(I)\n",
        "    x4 = hconcat(x2, x1)\n",
        "    x5 = hconcat(x3, I)\n",
        "    O = vconcat(x4, x5)\n",
        "    return O\n",
        "\n",
        "# Convert to nodes and edges\n",
        "nodes, edges = convert_solver_to_nodes_and_edges(solver)\n",
        "# Draw DAG\n",
        "print(nodes)\n",
        "print(edges)\n",
        "draw_dsl_dag(nodes, edges)"
      ],
      "metadata": {
        "id": "YoM9tzbQ9UJx"
      },
      "execution_count": null,
      "outputs": []
    },
    {
      "cell_type": "markdown",
      "source": [
        "###DAG Evolution\n",
        "1. Tree Expansion\n",
        "2. Vertex Mutation\n",
        "3. Other (yet to be defined)"
      ],
      "metadata": {
        "id": "hz9wqo73elsf"
      }
    },
    {
      "cell_type": "code",
      "source": [
        "#Vertex Mutation\n",
        "#requirements\n",
        "\"\"\"Process:-\n",
        "1. Select a random node from DAG\n",
        "2. Select a candidate node from candidate_nodes\n",
        "3. Remove selected node from DAG\n",
        "- go to input_edges list and delete them\n",
        "- go to output_edges list and delete them, save the other end of output edge in a temp_variable\n",
        "4. Go to the node to add\n",
        "- select random nodes from the levels above deleted_node.level equal to the current_node.inputs\n",
        "- add edges from these nodes to newly added nodes\n",
        "- add edge from newly added node to the saved output node stored in temp_variable\n",
        "\"\"\"\n",
        "\n",
        "\"\"\"\n",
        "How the DAG data structure should be?\n",
        "1. topologically sorted order list\n",
        "2. Inorder and outorder for every node\n",
        "\"\"\""
      ],
      "metadata": {
        "id": "IXiu8-IpMbFq"
      },
      "execution_count": null,
      "outputs": []
    },
    {
      "cell_type": "code",
      "source": [
        "import random\n",
        "from collections import defaultdict\n",
        "\n",
        "class ProgramDAG:\n",
        "    def __init__(self, nodes, in_edges, out_edges):\n",
        "        \"\"\"\n",
        "        nodes: dict of {node_id: DSLNode}, where node_id is unique (e.g., 'x1')\n",
        "        in_edges/out_edges: dicts of node_id -> list of node_ids\n",
        "        \"\"\"\n",
        "        self.nodes = nodes\n",
        "        self.in_edges = defaultdict(list, in_edges)\n",
        "        self.out_edges = defaultdict(list, out_edges)\n",
        "\n",
        "    #Third iteration\n",
        "    def vertex_mutation(self, candidate_nodes):\n",
        "        \"\"\"\n",
        "        Perform vertex mutation by modifying the content of a node in-place.\n",
        "        Output connections are preserved.\n",
        "        \"\"\"\n",
        "        # --- Step 1: Select a random eligible node (not 'I' or 'O')\n",
        "        eligible_nodes = [(nid, node) for nid, node in self.nodes.items() if nid not in ['I', 'O']]\n",
        "        if not eligible_nodes:\n",
        "            print(\"No eligible nodes to mutate.\")\n",
        "            return\n",
        "\n",
        "        selected_id, selected_node = random.choice(eligible_nodes)\n",
        "        print(f\"Selected node to mutate: {selected_id} ({selected_node.name})\")\n",
        "\n",
        "        # --- Step 2: Select a candidate node to copy structure from\n",
        "        template = random.choice(candidate_nodes)\n",
        "        print(f\"Replacing with operation: {template.name}\")\n",
        "\n",
        "        # --- Step 3: Remove current input connections only\n",
        "        for src in self.in_edges.get(selected_id, []):\n",
        "            if selected_id in self.out_edges[src]:\n",
        "                self.out_edges[src].remove(selected_id)\n",
        "        self.in_edges[selected_id] = []\n",
        "\n",
        "        # --- Step 4: Choose new input nodes from valid predecessors\n",
        "        dag_order = list(self.nodes.keys())\n",
        "        selected_index = dag_order.index(selected_id)\n",
        "        available_inputs = dag_order[:selected_index]\n",
        "\n",
        "        if len(available_inputs) < template.num_inputs:\n",
        "            print(\"Not enough upstream nodes available for new inputs.\")\n",
        "            return\n",
        "\n",
        "        chosen_inputs = random.sample(available_inputs, template.num_inputs)\n",
        "\n",
        "        # --- Step 5: Update the node in-place\n",
        "        selected_node.name = template.name\n",
        "        selected_node.num_inputs = template.num_inputs\n",
        "        selected_node.num_outputs = template.num_outputs\n",
        "        selected_node.input_types = ['grid'] * template.num_inputs\n",
        "        selected_node.output_types = ['grid'] * template.num_outputs\n",
        "\n",
        "        # --- Step 6: Connect new input edges\n",
        "        self.in_edges[selected_id] = chosen_inputs\n",
        "        for inp in chosen_inputs:\n",
        "            self.out_edges[inp].append(selected_id)\n",
        "\n",
        "        print(\"Vertex mutation completed in-place (outputs preserved).\")\n"
      ],
      "metadata": {
        "id": "4Co_gr43fuNn"
      },
      "execution_count": null,
      "outputs": []
    },
    {
      "cell_type": "code",
      "source": [
        "import random\n",
        "from collections import defaultdict\n",
        "\n",
        "# --- DSLNode class (as defined)\n",
        "class DSLNode:\n",
        "    def __init__(self, name, num_inputs, num_outputs, input_types, output_types):\n",
        "        self.name = name\n",
        "        self.num_inputs = num_inputs\n",
        "        self.num_outputs = num_outputs\n",
        "        self.input_types = input_types or []\n",
        "        self.output_types = output_types or []\n",
        "\n",
        "    def __repr__(self):\n",
        "        return (f\"DSLNode(name='{self.name}', \"\n",
        "                f\"num_inputs={self.num_inputs}, \"\n",
        "                f\"num_outputs={self.num_outputs}, \"\n",
        "                f\"input_types={self.input_types}, \"\n",
        "                f\"output_types={self.output_types})\")\n",
        "\n",
        "# --- ProgramDAG class with in-place vertex mutation\n",
        "class ProgramDAG:\n",
        "    def __init__(self, nodes, in_edges, out_edges=None):\n",
        "        self.nodes = nodes\n",
        "        self.in_edges = defaultdict(list, in_edges)\n",
        "        self.out_edges = defaultdict(list)\n",
        "\n",
        "        if out_edges:\n",
        "            self.out_edges.update(out_edges)\n",
        "        else:\n",
        "            for tgt, sources in self.in_edges.items():\n",
        "                for src in sources:\n",
        "                    self.out_edges[src].append(tgt)\n",
        "\n",
        "    def vertex_mutation(self, candidate_nodes):\n",
        "        eligible_nodes = [(nid, node) for nid, node in self.nodes.items() if nid not in ['I','O']]\n",
        "        if not eligible_nodes:\n",
        "            print(\"No eligible nodes to mutate.\")\n",
        "            return\n",
        "\n",
        "        selected_id, selected_node = random.choice(eligible_nodes)\n",
        "        print(f\"Selected node to mutate: {selected_id} ({selected_node.name})\")\n",
        "\n",
        "        template = random.choice(candidate_nodes)\n",
        "        print(f\"Replacing with operation: {template.name}\")\n",
        "\n",
        "        # Remove old input edges\n",
        "        for src in self.in_edges.get(selected_id, []):\n",
        "            if selected_id in self.out_edges[src]:\n",
        "                self.out_edges[src].remove(selected_id)\n",
        "        self.in_edges[selected_id] = []\n",
        "\n",
        "        # Find valid upstream inputs\n",
        "        dag_order = list(self.nodes.keys())\n",
        "        selected_index = dag_order.index(selected_id)\n",
        "        available_inputs = dag_order[:selected_index]\n",
        "\n",
        "        if len(available_inputs) < template.num_inputs:\n",
        "          print(\"\\033[91mNot enough upstream nodes available.\\033[0m\")\n",
        "          return\n",
        "\n",
        "        chosen_inputs = random.sample(available_inputs, template.num_inputs)\n",
        "\n",
        "        # In-place update\n",
        "        selected_node.name = template.name\n",
        "        selected_node.num_inputs = template.num_inputs\n",
        "        # selected_node.num_outputs = template.num_outputs\n",
        "        selected_node.input_types = ['grid'] * template.num_inputs\n",
        "        # selected_node.output_types = ['grid'] * template.num_outputs\n",
        "\n",
        "        # Add new input edges\n",
        "        self.in_edges[selected_id] = chosen_inputs\n",
        "        for inp in chosen_inputs:\n",
        "            self.out_edges[inp].append(selected_id)\n",
        "\n",
        "        print(\"Vertex mutation completed in-place (outputs preserved).\")\n",
        "\n",
        "# --- Test setup using provided example DAG\n",
        "\n",
        "# Define nodes\n",
        "nodes = {\n",
        "    'x1': DSLNode('hmirror', 1, 1, ['grid'], ['grid']),\n",
        "    'x2': DSLNode('vmirror', 1, 1, ['grid'], ['grid']),\n",
        "    'x3': DSLNode('vmirror', 1, 1, ['grid'], ['grid']),\n",
        "    'x4': DSLNode('hconcat', 2, 1, ['grid', 'grid'], ['grid']),\n",
        "    'x5': DSLNode('hconcat', 2, 1, ['grid', 'grid'], ['grid']),\n",
        "    'O':  DSLNode('vconcat', 2, 1, ['grid', 'grid'], ['grid']),\n",
        "}\n",
        "\n",
        "# Define in_edges\n",
        "in_edges = {\n",
        "    'x1': ['I'],\n",
        "    'x2': ['x1'],\n",
        "    'x3': ['I'],\n",
        "    'x4': ['x2', 'x1'],\n",
        "    'x5': ['x3', 'I'],\n",
        "    'O':  ['x4', 'x5'],\n",
        "}\n",
        "\n",
        "# Define candidate nodes for mutation (No of outputs doesn't matter, will remain same for newly substituted node)\n",
        "candidate_nodes = [\n",
        "    DSLNode('function_1', 1, 2, ['grid'], ['grid','grid']),\n",
        "    DSLNode('function_2', 1, 1, ['grid'], ['grid']),\n",
        "    DSLNode('function_3', 3, 1, ['grid', 'grid','grid'], ['grid']),\n",
        "]\n",
        "\n",
        "# Create DAG and run mutation\n",
        "dag = ProgramDAG(nodes, in_edges)\n",
        "print(\"\\n Before mutation:\")\n",
        "for nid, node in dag.nodes.items():\n",
        "    print(f\"{nid}: {node}\")\n",
        "\n",
        "dag.vertex_mutation(candidate_nodes)\n",
        "\n",
        "print(\"\\n After mutation:\")\n",
        "for nid, node in dag.nodes.items():\n",
        "    print(f\"{nid}: {node}\")\n",
        "\n",
        "print(\"\\n Updated in_edges:\")\n",
        "for k, v in dag.in_edges.items():\n",
        "    print(f\"{k}: {v}\")\n",
        "\n",
        "print(\"\\n Updated out_edges:\")\n",
        "for k, v in dag.out_edges.items():\n",
        "    print(f\"{k}: {v}\")\n",
        "\n"
      ],
      "metadata": {
        "id": "SUGADz1ZtDz5"
      },
      "execution_count": null,
      "outputs": []
    },
    {
      "cell_type": "code",
      "source": [
        "draw_dsl_dag(dag.nodes, dag.in_edges)"
      ],
      "metadata": {
        "id": "dsFBPgiRugLR"
      },
      "execution_count": null,
      "outputs": []
    }
  ],
  "metadata": {
    "kernelspec": {
      "language": "python",
      "display_name": "Python 3",
      "name": "python3"
    },
    "language_info": {
      "pygments_lexer": "ipython3",
      "nbconvert_exporter": "python",
      "version": "3.6.4",
      "file_extension": ".py",
      "codemirror_mode": {
        "name": "ipython",
        "version": 3
      },
      "name": "python",
      "mimetype": "text/x-python"
    },
    "colab": {
      "provenance": []
    }
  },
  "nbformat": 4,
  "nbformat_minor": 0
}